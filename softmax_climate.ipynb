{
 "cells": [
  {
   "cell_type": "code",
   "execution_count": 1,
   "metadata": {
    "collapsed": false
   },
   "outputs": [],
   "source": [
    "import random\n",
    "import numpy as np\n",
    "from cs231n.data_utils import load_CIFAR10\n",
    "import matplotlib.pyplot as plt\n",
    "%matplotlib inline\n",
    "plt.rcParams['figure.figsize'] = (10.0, 8.0) # set default size of plots\n",
    "plt.rcParams['image.interpolation'] = 'nearest'\n",
    "plt.rcParams['image.cmap'] = 'gray'\n",
    "\n",
    "# for auto-reloading extenrnal modules\n",
    "# see http://stackoverflow.com/questions/1907993/autoreload-of-modules-in-ipython\n",
    "%load_ext autoreload\n",
    "%autoreload 2"
   ]
  },
  {
   "cell_type": "code",
   "execution_count": 2,
   "metadata": {
    "collapsed": false
   },
   "outputs": [
    {
     "name": "stdout",
     "output_type": "stream",
     "text": [
      "(2000, 3072)\n",
      "(2000, 32, 32, 3)\n"
     ]
    }
   ],
   "source": [
    "\n",
    "import numpy as np\n",
    "X = np.genfromtxt ('X32.csv', delimiter=\",\")\n",
    "y = np.genfromtxt ('y32.csv', delimiter=\",\")\n",
    "\n",
    "print X.shape\n",
    "\n",
    "X = X.reshape(2000, 3, 32, 32).transpose(0,2,3,1).astype(\"float\")\n",
    "#X = a.reshape(349,3,32,32).swapaxes(0,2)\n",
    "print X.shape"
   ]
  },
  {
   "cell_type": "code",
   "execution_count": 3,
   "metadata": {
    "collapsed": false
   },
   "outputs": [
    {
     "name": "stdout",
     "output_type": "stream",
     "text": [
      "Training data shape:  (1600, 32, 32, 3)\n",
      "Training labels shape:  (1600,)\n",
      "Test data shape:  (400, 32, 32, 3)\n",
      "Test labels shape:  (400,)\n",
      "Train data shape:  (3073, 1200)\n",
      "Train labels shape:  (1200,)\n",
      "Validation data shape:  (3073, 400)\n",
      "Validation labels shape:  (400,)\n",
      "Test data shape:  (3073, 400)\n",
      "Test labels shape:  (400,)\n"
     ]
    }
   ],
   "source": [
    "def get_CIFAR10_data(num_training=1200, num_validation=400, num_test=400):\n",
    "  \"\"\"\n",
    "  Load the CIFAR-10 dataset from disk and perform preprocessing to prepare\n",
    "  it for the linear classifier. These are the same steps as we used for the\n",
    "  SVM, but condensed to a single function.  \n",
    "  \"\"\"\n",
    "  # Load the raw CIFAR-10 data\n",
    "  cifar10_dir = 'cs231n/datasets/cifar-10-batches-py'\n",
    "  #X_train, y_train, X_test, y_test = load_CIFAR10(cifar10_dir)\n",
    "  \n",
    "  \n",
    "  X_train = X[0:1600]\n",
    "  y_train = y[0:1600]\n",
    "  X_test = X[1600:]\n",
    "  y_test = y[1600:]\n",
    "\n",
    "  print 'Training data shape: ', X_train.shape\n",
    "  print 'Training labels shape: ', y_train.shape\n",
    "  print 'Test data shape: ', X_test.shape\n",
    "  print 'Test labels shape: ', y_test.shape\n",
    "\n",
    "  # subsample the data\n",
    "  mask = range(num_training, num_training + num_validation)\n",
    "  X_val = X_train[mask]\n",
    "  y_val = y_train[mask]\n",
    "  mask = range(num_training)\n",
    "  X_train = X_train[mask]\n",
    "  y_train = y_train[mask]\n",
    "  mask = range(num_test)\n",
    "  X_test = X_test[mask]\n",
    "  y_test = y_test[mask]\n",
    "  \n",
    "  # Preprocessing: reshape the image data into rows\n",
    "  X_train = np.reshape(X_train, (X_train.shape[0], -1))\n",
    "  X_val = np.reshape(X_val, (X_val.shape[0], -1))\n",
    "  X_test = np.reshape(X_test, (X_test.shape[0], -1))\n",
    "  \n",
    "  # Normalize the data: subtract the mean image\n",
    "  mean_image = np.mean(X_train, axis = 0)\n",
    "  X_train -= mean_image\n",
    "  X_val -= mean_image\n",
    "  X_test -= mean_image\n",
    "  \n",
    "  # add bias dimension and transform into columns\n",
    "  X_train = np.hstack([X_train, np.ones((X_train.shape[0], 1))]).T\n",
    "  X_val = np.hstack([X_val, np.ones((X_val.shape[0], 1))]).T\n",
    "  X_test = np.hstack([X_test, np.ones((X_test.shape[0], 1))]).T\n",
    "  \n",
    "  return X_train, y_train, X_val, y_val, X_test, y_test\n",
    "\n",
    "\n",
    "# Invoke the above function to get our data.\n",
    "X_train, y_train, X_val, y_val, X_test, y_test = get_CIFAR10_data()\n",
    "#y_train[:400] = 0\n",
    "#y_train[800:1200] = 1\n",
    "y_test[0:100] = 1;\n",
    "y_test[300:] = 0;\n",
    "y_val[0:50] = 1;\n",
    "y_val[350:] = 0;\n",
    "print 'Train data shape: ', X_train.shape\n",
    "print 'Train labels shape: ', y_train.shape\n",
    "print 'Validation data shape: ', X_val.shape\n",
    "print 'Validation labels shape: ', y_val.shape\n",
    "print 'Test data shape: ', X_test.shape\n",
    "print 'Test labels shape: ', y_test.shape"
   ]
  },
  {
   "cell_type": "code",
   "execution_count": 4,
   "metadata": {
    "collapsed": false
   },
   "outputs": [
    {
     "name": "stderr",
     "output_type": "stream",
     "text": [
      "cs231n/classifiers/softmax.py:45: VisibleDeprecationWarning: using a non-integer number instead of an integer will result in an error in the future\n",
      "  loss += -f_i[y[i]] + np.log(sum_i)\n"
     ]
    },
    {
     "name": "stdout",
     "output_type": "stream",
     "text": [
      "loss: 2.438260\n",
      "sanity check: 2.302585\n"
     ]
    }
   ],
   "source": [
    "# First implement the naive softmax loss function with nested loops.\n",
    "# Open the file cs231n/classifiers/softmax.py and implement the\n",
    "# softmax_loss_naive function.\n",
    "\n",
    "from cs231n.classifiers.softmax import softmax_loss_naive\n",
    "import time\n",
    "\n",
    "# Generate a random softmax weight matrix and use it to compute the loss.\n",
    "W = np.random.randn(10, 3073) * 0.0001\n",
    "loss, grad = softmax_loss_naive(W, X_train, y_train, 0.0)\n",
    "\n",
    "# As a rough sanity check, our loss should be something close to -log(0.1).\n",
    "print 'loss: %f' % loss\n",
    "print 'sanity check: %f' % (-np.log(0.1))"
   ]
  },
  {
   "cell_type": "code",
   "execution_count": 5,
   "metadata": {
    "collapsed": false
   },
   "outputs": [
    {
     "name": "stdout",
     "output_type": "stream",
     "text": [
      "numerical: 0.280803 analytic: 0.280802, relative error: 6.158515e-08\n",
      "numerical: -0.986748 analytic: -0.986748, relative error: 1.161441e-07\n",
      "numerical: 0.828909 analytic: 0.828909, relative error: 9.443423e-08\n",
      "numerical: 26.799676 analytic: 26.799676, relative error: 3.010466e-09\n",
      "numerical: -2.264449 analytic: -2.264448, relative error: 5.557613e-08\n",
      "numerical: -17.485060 analytic: -17.485060, relative error: 6.162827e-09\n",
      "numerical: 28.493667 analytic: 28.493668, relative error: 9.606591e-09\n",
      "numerical: -1.147677 analytic: -1.147677, relative error: 4.586164e-08\n",
      "numerical: 13.332838 analytic: 13.332838, relative error: 1.820432e-09\n",
      "numerical: 0.313850 analytic: 0.313850, relative error: 1.827293e-07\n"
     ]
    }
   ],
   "source": [
    "# Complete the implementation of softmax_loss_naive and implement a (naive)\n",
    "# version of the gradient that uses nested loops.\n",
    "loss, grad = softmax_loss_naive(W, X_train, y_train, 0.0)\n",
    "\n",
    "# As we did for the SVM, use numeric gradient checking as a debugging tool.\n",
    "# The numeric gradient should be close to the analytic gradient.\n",
    "from cs231n.gradient_check import grad_check_sparse\n",
    "f = lambda w: softmax_loss_naive(w, X_train, y_train, 0.0)[0]\n",
    "grad_numerical = grad_check_sparse(f, W, grad, 10)"
   ]
  },
  {
   "cell_type": "code",
   "execution_count": 6,
   "metadata": {
    "collapsed": false
   },
   "outputs": [
    {
     "name": "stdout",
     "output_type": "stream",
     "text": [
      "[0 1 1 ..., 1 0 1]\n"
     ]
    }
   ],
   "source": [
    "print y.astype(int)"
   ]
  },
  {
   "cell_type": "code",
   "execution_count": 7,
   "metadata": {
    "collapsed": false
   },
   "outputs": [
    {
     "name": "stdout",
     "output_type": "stream",
     "text": [
      "naive loss: 2.438260e+00 computed in 0.231636s\n",
      "vectorized loss: 9.534754e+00 computed in 0.018360s\n",
      "Loss difference: 7.096493\n",
      "Gradient difference: 0.000000\n"
     ]
    }
   ],
   "source": [
    "# Now that we have a naive implementation of the softmax loss function and its gradient,\n",
    "# implement a vectorized version in softmax_loss_vectorized.\n",
    "# The two versions should compute the same results, but the vectorized version should be\n",
    "# much faster.\n",
    "tic = time.time()\n",
    "loss_naive, grad_naive = softmax_loss_naive(W, X_train, y_train, 0.00001)\n",
    "toc = time.time()\n",
    "print 'naive loss: %e computed in %fs' % (loss_naive, toc - tic)\n",
    "\n",
    "from cs231n.classifiers.softmax import softmax_loss_vectorized\n",
    "tic = time.time()\n",
    "loss_vectorized, grad_vectorized = softmax_loss_vectorized(W, X_train, y_train.astype(int), 0.00001)\n",
    "toc = time.time()\n",
    "print 'vectorized loss: %e computed in %fs' % (loss_vectorized, toc - tic)\n",
    "\n",
    "# As we did for the SVM, we use the Frobenius norm to compare the two versions\n",
    "# of the gradient.\n",
    "grad_difference = np.linalg.norm(grad_naive - grad_vectorized, ord='fro')\n",
    "print 'Loss difference: %f' % np.abs(loss_naive - loss_vectorized)\n",
    "print 'Gradient difference: %f' % grad_difference"
   ]
  },
  {
   "cell_type": "code",
   "execution_count": 8,
   "metadata": {
    "collapsed": false
   },
   "outputs": [
    {
     "name": "stderr",
     "output_type": "stream",
     "text": [
      "cs231n/classifiers/softmax.py:95: RuntimeWarning: divide by zero encountered in log\n",
      "  loss = -np.mean( np.log(np.exp(f_correct)/np.sum(np.exp(f))) )\n",
      "cs231n/classifiers/softmax.py:98: RuntimeWarning: invalid value encountered in divide\n",
      "  p = np.exp(f)/np.sum(np.exp(f), axis=0)\n"
     ]
    },
    {
     "name": "stdout",
     "output_type": "stream",
     "text": [
      "lr 1.000000e-10 reg 1.000000e-03 train accuracy: 0.900833 val accuracy: 0.780000\n",
      "lr 1.000000e-10 reg 1.000000e-02 train accuracy: 0.177500 val accuracy: 0.265000\n",
      "lr 1.000000e-10 reg 1.000000e-01 train accuracy: 0.509167 val accuracy: 0.505000\n",
      "lr 1.000000e-10 reg 1.000000e+00 train accuracy: 0.229167 val accuracy: 0.347500\n",
      "lr 1.000000e-10 reg 1.000000e+01 train accuracy: 0.252500 val accuracy: 0.312500\n",
      "lr 1.000000e-10 reg 1.000000e+02 train accuracy: 0.734167 val accuracy: 0.642500\n",
      "lr 1.000000e-10 reg 1.000000e+03 train accuracy: 0.692500 val accuracy: 0.697500\n",
      "lr 1.000000e-10 reg 1.000000e+04 train accuracy: 0.094167 val accuracy: 0.200000\n",
      "lr 1.000000e-10 reg 1.000000e+05 train accuracy: 0.924167 val accuracy: 0.802500\n",
      "lr 1.000000e-10 reg 1.000000e+06 train accuracy: 0.440000 val accuracy: 0.435000\n",
      "lr 1.668101e-08 reg 1.000000e-03 train accuracy: 0.416667 val accuracy: 0.460000\n",
      "lr 1.668101e-08 reg 1.000000e-02 train accuracy: 0.182500 val accuracy: 0.235000\n",
      "lr 1.668101e-08 reg 1.000000e-01 train accuracy: 0.926667 val accuracy: 0.812500\n",
      "lr 1.668101e-08 reg 1.000000e+00 train accuracy: 0.661667 val accuracy: 0.575000\n",
      "lr 1.668101e-08 reg 1.000000e+01 train accuracy: 0.595000 val accuracy: 0.527500\n",
      "lr 1.668101e-08 reg 1.000000e+02 train accuracy: 0.838333 val accuracy: 0.722500\n",
      "lr 1.668101e-08 reg 1.000000e+03 train accuracy: 0.043333 val accuracy: 0.175000\n",
      "lr 1.668101e-08 reg 1.000000e+04 train accuracy: 0.538333 val accuracy: 0.502500\n",
      "lr 1.668101e-08 reg 1.000000e+05 train accuracy: 0.475833 val accuracy: 0.522500\n",
      "lr 1.668101e-08 reg 1.000000e+06 train accuracy: 0.205000 val accuracy: 0.282500\n",
      "lr 2.782559e-06 reg 1.000000e-03 train accuracy: 0.990000 val accuracy: 0.840000\n",
      "lr 2.782559e-06 reg 1.000000e-02 train accuracy: 1.000000 val accuracy: 0.857500\n",
      "lr 2.782559e-06 reg 1.000000e-01 train accuracy: 0.995833 val accuracy: 0.847500\n",
      "lr 2.782559e-06 reg 1.000000e+00 train accuracy: 0.994167 val accuracy: 0.847500\n",
      "lr 2.782559e-06 reg 1.000000e+01 train accuracy: 1.000000 val accuracy: 0.857500\n",
      "lr 2.782559e-06 reg 1.000000e+02 train accuracy: 0.996667 val accuracy: 0.852500\n",
      "lr 2.782559e-06 reg 1.000000e+03 train accuracy: 0.993333 val accuracy: 0.847500\n",
      "lr 2.782559e-06 reg 1.000000e+04 train accuracy: 0.993333 val accuracy: 0.852500\n",
      "lr 2.782559e-06 reg 1.000000e+05 train accuracy: 1.000000 val accuracy: 0.857500\n",
      "lr 2.782559e-06 reg 1.000000e+06 train accuracy: 0.495000 val accuracy: 0.482500\n",
      "lr 4.641589e-04 reg 1.000000e-03 train accuracy: 1.000000 val accuracy: 0.857500\n",
      "lr 4.641589e-04 reg 1.000000e-02 train accuracy: 0.495000 val accuracy: 0.482500\n",
      "lr 4.641589e-04 reg 1.000000e-01 train accuracy: 0.495000 val accuracy: 0.482500\n",
      "lr 4.641589e-04 reg 1.000000e+00 train accuracy: 0.495000 val accuracy: 0.482500\n",
      "lr 4.641589e-04 reg 1.000000e+01 train accuracy: 0.495000 val accuracy: 0.482500\n",
      "lr 4.641589e-04 reg 1.000000e+02 train accuracy: 0.495000 val accuracy: 0.482500\n",
      "lr 4.641589e-04 reg 1.000000e+03 train accuracy: 0.495000 val accuracy: 0.482500\n",
      "lr 4.641589e-04 reg 1.000000e+04 train accuracy: 0.495000 val accuracy: 0.482500\n",
      "lr 4.641589e-04 reg 1.000000e+05 train accuracy: 0.495000 val accuracy: 0.482500\n",
      "lr 4.641589e-04 reg 1.000000e+06 train accuracy: 0.495000 val accuracy: 0.482500\n",
      "lr 7.742637e-02 reg 1.000000e-03 train accuracy: 0.495000 val accuracy: 0.482500\n",
      "lr 7.742637e-02 reg 1.000000e-02 train accuracy: 0.495000 val accuracy: 0.482500\n",
      "lr 7.742637e-02 reg 1.000000e-01 train accuracy: 0.495000 val accuracy: 0.482500\n",
      "lr 7.742637e-02 reg 1.000000e+00 train accuracy: 0.495000 val accuracy: 0.482500\n",
      "lr 7.742637e-02 reg 1.000000e+01 train accuracy: 0.495000 val accuracy: 0.482500\n",
      "lr 7.742637e-02 reg 1.000000e+02 train accuracy: 0.495000 val accuracy: 0.482500\n",
      "lr 7.742637e-02 reg 1.000000e+03 train accuracy: 0.495000 val accuracy: 0.482500\n",
      "lr 7.742637e-02 reg 1.000000e+04 train accuracy: 0.495000 val accuracy: 0.482500\n",
      "lr 7.742637e-02 reg 1.000000e+05 train accuracy: 0.495000 val accuracy: 0.482500\n",
      "lr 7.742637e-02 reg 1.000000e+06 train accuracy: 0.495000 val accuracy: 0.482500\n",
      "lr 1.291550e+01 reg 1.000000e-03 train accuracy: 0.495000 val accuracy: 0.482500\n",
      "lr 1.291550e+01 reg 1.000000e-02 train accuracy: 0.495000 val accuracy: 0.482500\n",
      "lr 1.291550e+01 reg 1.000000e-01 train accuracy: 0.495000 val accuracy: 0.482500\n",
      "lr 1.291550e+01 reg 1.000000e+00 train accuracy: 0.495000 val accuracy: 0.482500\n",
      "lr 1.291550e+01 reg 1.000000e+01 train accuracy: 0.495000 val accuracy: 0.482500\n",
      "lr 1.291550e+01 reg 1.000000e+02 train accuracy: 0.495000 val accuracy: 0.482500\n",
      "lr 1.291550e+01 reg 1.000000e+03 train accuracy: 0.495000 val accuracy: 0.482500\n",
      "lr 1.291550e+01 reg 1.000000e+04 train accuracy: 0.495000 val accuracy: 0.482500\n",
      "lr 1.291550e+01 reg 1.000000e+05 train accuracy: 0.495000 val accuracy: 0.482500\n",
      "lr 1.291550e+01 reg 1.000000e+06 train accuracy: 0.495000 val accuracy: 0.482500\n",
      "lr 2.154435e+03 reg 1.000000e-03 train accuracy: 0.495000 val accuracy: 0.482500\n",
      "lr 2.154435e+03 reg 1.000000e-02 train accuracy: 0.495000 val accuracy: 0.482500\n",
      "lr 2.154435e+03 reg 1.000000e-01 train accuracy: 0.495000 val accuracy: 0.482500\n",
      "lr 2.154435e+03 reg 1.000000e+00 train accuracy: 0.495000 val accuracy: 0.482500\n",
      "lr 2.154435e+03 reg 1.000000e+01 train accuracy: 0.495000 val accuracy: 0.482500\n",
      "lr 2.154435e+03 reg 1.000000e+02 train accuracy: 0.495000 val accuracy: 0.482500\n",
      "lr 2.154435e+03 reg 1.000000e+03 train accuracy: 0.495000 val accuracy: 0.482500\n",
      "lr 2.154435e+03 reg 1.000000e+04 train accuracy: 0.495000 val accuracy: 0.482500\n",
      "lr 2.154435e+03 reg 1.000000e+05 train accuracy: 0.495000 val accuracy: 0.482500\n",
      "lr 2.154435e+03 reg 1.000000e+06 train accuracy: 0.495000 val accuracy: 0.482500\n",
      "lr 3.593814e+05 reg 1.000000e-03 train accuracy: 0.495000 val accuracy: 0.482500\n",
      "lr 3.593814e+05 reg 1.000000e-02 train accuracy: 0.495000 val accuracy: 0.482500\n",
      "lr 3.593814e+05 reg 1.000000e-01 train accuracy: 0.495000 val accuracy: 0.482500\n",
      "lr 3.593814e+05 reg 1.000000e+00 train accuracy: 0.495000 val accuracy: 0.482500\n",
      "lr 3.593814e+05 reg 1.000000e+01 train accuracy: 0.495000 val accuracy: 0.482500\n",
      "lr 3.593814e+05 reg 1.000000e+02 train accuracy: 0.495000 val accuracy: 0.482500\n",
      "lr 3.593814e+05 reg 1.000000e+03 train accuracy: 0.495000 val accuracy: 0.482500\n",
      "lr 3.593814e+05 reg 1.000000e+04 train accuracy: 0.495000 val accuracy: 0.482500\n",
      "lr 3.593814e+05 reg 1.000000e+05 train accuracy: 0.495000 val accuracy: 0.482500\n",
      "lr 3.593814e+05 reg 1.000000e+06 train accuracy: 0.495000 val accuracy: 0.482500\n",
      "lr 5.994843e+07 reg 1.000000e-03 train accuracy: 0.495000 val accuracy: 0.482500\n",
      "lr 5.994843e+07 reg 1.000000e-02 train accuracy: 0.495000 val accuracy: 0.482500\n",
      "lr 5.994843e+07 reg 1.000000e-01 train accuracy: 0.495000 val accuracy: 0.482500\n",
      "lr 5.994843e+07 reg 1.000000e+00 train accuracy: 0.495000 val accuracy: 0.482500\n",
      "lr 5.994843e+07 reg 1.000000e+01 train accuracy: 0.495000 val accuracy: 0.482500\n",
      "lr 5.994843e+07 reg 1.000000e+02 train accuracy: 0.495000 val accuracy: 0.482500\n",
      "lr 5.994843e+07 reg 1.000000e+03 train accuracy: 0.495000 val accuracy: 0.482500\n",
      "lr 5.994843e+07 reg 1.000000e+04 train accuracy: 0.495000 val accuracy: 0.482500\n",
      "lr 5.994843e+07 reg 1.000000e+05 train accuracy: 0.495000 val accuracy: 0.482500\n",
      "lr 5.994843e+07 reg 1.000000e+06 train accuracy: 0.495000 val accuracy: 0.482500\n",
      "lr 1.000000e+10 reg 1.000000e-03 train accuracy: 0.495000 val accuracy: 0.482500\n",
      "lr 1.000000e+10 reg 1.000000e-02 train accuracy: 0.495000 val accuracy: 0.482500\n",
      "lr 1.000000e+10 reg 1.000000e-01 train accuracy: 0.495000 val accuracy: 0.482500\n",
      "lr 1.000000e+10 reg 1.000000e+00 train accuracy: 0.495000 val accuracy: 0.482500\n",
      "lr 1.000000e+10 reg 1.000000e+01 train accuracy: 0.495000 val accuracy: 0.482500\n",
      "lr 1.000000e+10 reg 1.000000e+02 train accuracy: 0.495000 val accuracy: 0.482500\n",
      "lr 1.000000e+10 reg 1.000000e+03 train accuracy: 0.495000 val accuracy: 0.482500\n",
      "lr 1.000000e+10 reg 1.000000e+04 train accuracy: 0.495000 val accuracy: 0.482500\n",
      "lr 1.000000e+10 reg 1.000000e+05 train accuracy: 0.495000 val accuracy: 0.482500\n",
      "lr 1.000000e+10 reg 1.000000e+06 train accuracy: 0.495000 val accuracy: 0.482500\n",
      "best validation accuracy achieved during cross-validation: 0.857500\n"
     ]
    }
   ],
   "source": [
    "# Use the validation set to tune hyperparameters (regularization strength and\n",
    "# learning rate). You should experiment with different ranges for the learning\n",
    "# rates and regularization strengths; if you are careful you should be able to\n",
    "# get a classification accuracy of over 0.35 on the validation set.\n",
    "from cs231n.classifiers import Softmax\n",
    "results = {}\n",
    "best_val = -1\n",
    "best_softmax = None\n",
    "learning_rates = np.logspace(-10, 10, 10) # np.logspace(-10, 10, 8) #-10, -9, -8, -7, -6, -5, -4\n",
    "regularization_strengths = np.logspace(-3, 6, 10) # causes numeric issues: np.logspace(-5, 5, 8) #[-4, -3, -2, -1, 1, 2, 3, 4, 5, 6]\n",
    "\n",
    "################################################################################\n",
    "# Use the validation set to set the learning rate and regularization strength. #\n",
    "# This should be identical to the validation that you did for the SVM; save    #\n",
    "# the best trained softmax classifer in best_softmax.                          #\n",
    "################################################################################\n",
    "iters = 10 #100\n",
    "for lr in learning_rates:\n",
    "    for rs in regularization_strengths:\n",
    "        softmax = Softmax()\n",
    "        softmax.train(X_train, y_train.astype(int), learning_rate=lr, reg=rs, num_iters=iters)\n",
    "        \n",
    "        y_train_pred = softmax.predict(X_train)\n",
    "        acc_train = np.mean(y_train == y_train_pred)\n",
    "        y_val_pred = softmax.predict(X_val)\n",
    "        acc_val = np.mean(y_val == y_val_pred)\n",
    "        \n",
    "        results[(lr, rs)] = (acc_train, acc_val)\n",
    "        \n",
    "        if best_val < acc_val:\n",
    "            best_val = acc_val\n",
    "            best_softmax = softmax\n",
    "    \n",
    "# Print out results.\n",
    "for lr, reg in sorted(results):\n",
    "    train_accuracy, val_accuracy = results[(lr, reg)]\n",
    "    print 'lr %e reg %e train accuracy: %f val accuracy: %f' % (\n",
    "                lr, reg, train_accuracy, val_accuracy)\n",
    "    \n",
    "print 'best validation accuracy achieved during cross-validation: %f' % best_val"
   ]
  },
  {
   "cell_type": "code",
   "execution_count": 9,
   "metadata": {
    "collapsed": false
   },
   "outputs": [
    {
     "name": "stdout",
     "output_type": "stream",
     "text": [
      "softmax on raw pixels final test set accuracy: 0.765000\n"
     ]
    }
   ],
   "source": [
    "# evaluate on test set\n",
    "# Evaluate the best svm on test set\n",
    "y_test_pred = best_softmax.predict(X_test)\n",
    "test_accuracy = np.mean(y_test == y_test_pred)\n",
    "print 'softmax on raw pixels final test set accuracy: %f' % (test_accuracy, )"
   ]
  },
  {
   "cell_type": "code",
   "execution_count": 10,
   "metadata": {
    "collapsed": false
   },
   "outputs": [
    {
     "data": {
      "image/png": "[encoded data removed]",
      "text/plain": [
       "<matplotlib.figure.Figure at 0x7f389e854b10>"
      ]
     },
     "metadata": {},
     "output_type": "display_data"
    }
   ],
   "source": [
    "# Visualize the learned weights for each class\n",
    "w = best_softmax.W[:,:-1] # strip out the bias\n",
    "w = w.reshape(2, 32, 32, 3)\n",
    "\n",
    "w_min, w_max = np.min(w), np.max(w)\n",
    "\n",
    "classes = ['no', 'yes']\n",
    "for i in xrange(2):\n",
    "  plt.subplot(2, 1, i + 1)\n",
    "  \n",
    "  # Rescale the weights to be between 0 and 255\n",
    "  wimg = 255.0 * (w[i].squeeze() - w_min) / (w_max - w_min)\n",
    "  plt.imshow(wimg.astype('uint8'))\n",
    "  plt.axis('off')\n",
    "  plt.title(classes[i])"
   ]
  },
  {
   "cell_type": "code",
   "execution_count": 11,
   "metadata": {
    "collapsed": false
   },
   "outputs": [],
   "source": [
    "from sklearn.metrics import confusion_matrix\n",
    "cnf_matrix = confusion_matrix(y_test, y_test_pred)"
   ]
  },
  {
   "cell_type": "code",
   "execution_count": 12,
   "metadata": {
    "collapsed": false
   },
   "outputs": [
    {
     "data": {
      "text/plain": [
       "array([[165,  43],\n",
       "       [ 51, 141]])"
      ]
     },
     "execution_count": 12,
     "metadata": {},
     "output_type": "execute_result"
    }
   ],
   "source": [
    "cnf_matrix"
   ]
  },
  {
   "cell_type": "code",
   "execution_count": null,
   "metadata": {
    "collapsed": true
   },
   "outputs": [],
   "source": []
  }
 ],
 "metadata": {
  "kernelspec": {
   "display_name": "Python [Root]",
   "language": "python",
   "name": "Python [Root]"
  },
  "language_info": {
   "codemirror_mode": {
    "name": "ipython",
    "version": 2
   },
   "file_extension": ".py",
   "mimetype": "text/x-python",
   "name": "python",
   "nbconvert_exporter": "python",
   "pygments_lexer": "ipython2",
   "version": "2.7.12"
  }
 },
 "nbformat": 4,
 "nbformat_minor": 0
}
